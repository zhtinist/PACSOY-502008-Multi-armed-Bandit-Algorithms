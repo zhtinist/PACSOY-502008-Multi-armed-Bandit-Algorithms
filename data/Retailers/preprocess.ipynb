{
 "cells": [
  {
   "cell_type": "code",
   "execution_count": 2,
   "id": "79bc8369",
   "metadata": {},
   "outputs": [
    {
     "name": "stdout",
     "output_type": "stream",
     "text": [
      "Using 8 arms (retailers): ['Retailer01', 'Retailer02', 'Retailer03', 'Retailer04', 'Retailer05', 'Retailer06', 'Retailer07', 'Retailer08']\n",
      "Retailer arms and rewards saved to ../../save/\n"
     ]
    }
   ],
   "source": [
    "import pandas as pd\n",
    "import json\n",
    "import os\n",
    "\n",
    "def preprocess_retailer_data():\n",
    "    # Load CSV\n",
    "    data = pd.read_csv(\"retailer.csv\")  \n",
    "\n",
    "    # Arms = Retailer names\n",
    "    arms = data.columns.tolist()\n",
    "    print(f\"Using {len(arms)} arms (retailers): {arms}\")\n",
    "\n",
    "    # Rewards: list of values per retailer\n",
    "    rewards_by_retailer = {col: data[col].dropna().astype(int).tolist() for col in arms}\n",
    "\n",
    "    # Save\n",
    "    save_path = \"../../save/\"\n",
    "    os.makedirs(save_path, exist_ok=True)\n",
    "\n",
    "    with open(os.path.join(save_path, \"rtlr_arms.json\"), \"w\") as f:\n",
    "        json.dump(arms, f)\n",
    "\n",
    "    with open(os.path.join(save_path, \"rtlr_rewards.json\"), \"w\") as f:\n",
    "        json.dump(rewards_by_retailer, f)\n",
    "\n",
    "    print(f\"Retailer arms and rewards saved to {save_path}\")\n",
    "\n",
    "if __name__ == \"__main__\":\n",
    "    preprocess_retailer_data()"
   ]
  }
 ],
 "metadata": {
  "kernelspec": {
   "display_name": "final_project",
   "language": "python",
   "name": "python3"
  },
  "language_info": {
   "codemirror_mode": {
    "name": "ipython",
    "version": 3
   },
   "file_extension": ".py",
   "mimetype": "text/x-python",
   "name": "python",
   "nbconvert_exporter": "python",
   "pygments_lexer": "ipython3",
   "version": "3.12.3"
  }
 },
 "nbformat": 4,
 "nbformat_minor": 5
}
