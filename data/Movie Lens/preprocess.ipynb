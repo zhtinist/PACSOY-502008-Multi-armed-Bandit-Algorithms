{
 "cells": [
  {
   "cell_type": "code",
   "execution_count": 2,
   "id": "cf3f7c87",
   "metadata": {},
   "outputs": [
    {
     "name": "stdout",
     "output_type": "stream",
     "text": [
      "Using 10 arms (genres): ['Action', 'Adventure', \"Children's\", 'Comedy', 'Crime', 'Drama', 'Horror', 'Romance', 'Sci-Fi', 'Thriller']\n",
      "Arms and rewards saved to ../../save\n"
     ]
    }
   ],
   "source": [
    "import pandas as pd\n",
    "import numpy as np\n",
    "import json\n",
    "import os\n",
    "from collections import defaultdict \n",
    "def preprocess_data():\n",
    "    # Load datasets\n",
    "    ratings = pd.read_csv(\"ratings.dat\", sep=\"::\", engine=\"python\", names=[\"UserID\", \"MovieID\", \"Rating\", \"Timestamp\"])\n",
    "    movies = pd.read_csv(\"movies.dat\", sep=\"::\", engine=\"python\", encoding=\"ISO-8859-1\", names=[\"MovieID\", \"Title\", \"Genres\"])\n",
    "\n",
    "    # Merge and process data\n",
    "    data = pd.merge(ratings, movies, on=\"MovieID\")\n",
    "    data[\"Genres\"] = data[\"Genres\"].str.split('|')\n",
    "    data = data.explode(\"Genres\")\n",
    "\n",
    "    # Filter top genres to reduce arms\n",
    "    popular_genres = data[\"Genres\"].value_counts().head(10).index.tolist()\n",
    "    data = data[data[\"Genres\"].isin(popular_genres)]\n",
    "\n",
    "    arms = sorted(data[\"Genres\"].unique())\n",
    "    print(f\"Using {len(arms)} arms (genres): {arms}\")\n",
    "\n",
    "    # Create cached reward pools for each genre\n",
    "    rewards_by_genre = defaultdict(list)\n",
    "    for _, row in data.iterrows():\n",
    "        rewards_by_genre[row[\"Genres\"]].append(row[\"Rating\"] / 5)  # normalize to [0, 1]\n",
    "\n",
    "    # Convert reward lists to numpy arrays for fast access\n",
    "    sample_pool = {genre: np.array(rewards_by_genre[genre]) for genre in arms}\n",
    "\n",
    "    # Save arms and rewards to JSON files\n",
    "    save_path = \"../../save/\"\n",
    "    os.makedirs(save_path, exist_ok=True)\n",
    "\n",
    "    with open(os.path.join(save_path, \"arms.json\"), \"w\") as f:\n",
    "        json.dump(arms, f)\n",
    "\n",
    "    with open(os.path.join(save_path, \"rewards.json\"), \"w\") as f:\n",
    "        json.dump({genre: sample_pool[genre].tolist() for genre in arms}, f)\n",
    "\n",
    "    print(f\"Arms and rewards saved to {save_path}\")\n",
    "\n",
    "if __name__ == \"__main__\":\n",
    "    preprocess_data()"
   ]
  }
 ],
 "metadata": {
  "kernelspec": {
   "display_name": "Python 3",
   "language": "python",
   "name": "python3"
  },
  "language_info": {
   "codemirror_mode": {
    "name": "ipython",
    "version": 3
   },
   "file_extension": ".py",
   "mimetype": "text/x-python",
   "name": "python",
   "nbconvert_exporter": "python",
   "pygments_lexer": "ipython3",
   "version": "3.12.3"
  }
 },
 "nbformat": 4,
 "nbformat_minor": 5
}
