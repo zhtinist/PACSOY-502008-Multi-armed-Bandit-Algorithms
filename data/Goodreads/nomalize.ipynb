{
 "cells": [
  {
   "cell_type": "code",
   "execution_count": null,
   "id": "286b2586",
   "metadata": {},
   "outputs": [],
   "source": [
    "import json\n",
    "import os\n",
    "\n",
    "# Normalize the entire .json file and save it to a new file\n",
    "def normalize_json_file(file_path):\n",
    "    try:\n",
    "        # Get the new file name\n",
    "        base_name = os.path.basename(file_path)\n",
    "        new_file_name = f\"normalized_{base_name}\"\n",
    "        new_file_path = os.path.join(os.path.dirname(file_path), new_file_name)\n",
    "\n",
    "        with open(file_path, 'r', encoding='utf-8') as file, open(new_file_path, 'w', encoding='utf-8') as new_file:\n",
    "            items = []\n",
    "            for line in file:\n",
    "                try:\n",
    "                    # Attempt to parse each line as a JSON object\n",
    "                    item = json.loads(line.strip())\n",
    "                    items.append(item)\n",
    "                except json.JSONDecodeError as e:\n",
    "                    print(f\"Error parsing line: {e}\")\n",
    "                    continue\n",
    "\n",
    "            # Write the parsed content to the new file\n",
    "            json.dump(items, new_file, indent=4, ensure_ascii=False)\n",
    "        print(f\"Successfully normalized the entire file and saved to {new_file_path}\")\n",
    "    except FileNotFoundError:\n",
    "        print(f\"File {file_path} not found.\")\n",
    "    except Exception as e:\n",
    "        print(f\"Error reading the file: {e}\")\n",
    "\n",
    "# Main function\n",
    "def main():\n",
    "    file_path = input(\"Enter the path of the .json file: \")\n",
    "    normalize_json_file(file_path)\n",
    "\n",
    "if __name__ == \"__main__\":\n",
    "    main()"
   ]
  }
 ],
 "metadata": {
  "language_info": {
   "name": "python"
  }
 },
 "nbformat": 4,
 "nbformat_minor": 5
}
