{
 "cells": [
  {
   "cell_type": "markdown",
   "id": "d5de293c",
   "metadata": {},
   "source": [
    "# Do not use this for formal processing!!! This script is used to reduce the dataset, as the original dataset is too large to run or even view."
   ]
  },
  {
   "cell_type": "code",
   "execution_count": null,
   "id": "4208f8e2",
   "metadata": {},
   "outputs": [],
   "source": [
    "import json\n",
    "import os\n",
    "\n",
    "# 提取.json文件的前100行并保存到新文件\n",
    "def extract_first_100_lines_and_save(file_path):\n",
    "    try:\n",
    "        # 获取新文件名\n",
    "        base_name = os.path.basename(file_path)\n",
    "        new_file_name = f\"small_{base_name}\"\n",
    "        new_file_path = os.path.join(os.path.dirname(file_path), new_file_name)\n",
    "\n",
    "        with open(file_path, 'r', encoding='utf-8') as file, open(new_file_path, 'w', encoding='utf-8') as new_file:\n",
    "            count = 0\n",
    "            items = []\n",
    "            for line in file:\n",
    "                try:\n",
    "                    # 尝试解析每一行为JSON对象\n",
    "                    item = json.loads(line.strip())\n",
    "                    items.append(item)\n",
    "                    count += 1\n",
    "                    if count >= 100:\n",
    "                        break\n",
    "                except json.JSONDecodeError as e:\n",
    "                    print(f\"解析行时发生错误：{e}\")\n",
    "                    continue\n",
    "\n",
    "            # 将提取的内容写入新文件\n",
    "            json.dump(items, new_file, indent=4, ensure_ascii=False)\n",
    "        print(f\"已成功提取前100行并保存到文件 {new_file_path}\")\n",
    "    except FileNotFoundError:\n",
    "        print(f\"文件 {file_path} 未找到。\")\n",
    "    except Exception as e:\n",
    "        print(f\"读取文件时发生错误：{e}\")\n",
    "\n",
    "# 主函数\n",
    "def main():\n",
    "    file_path = input(\"请输入.json文件的路径：\")\n",
    "    extract_first_100_lines_and_save(file_path)\n",
    "\n",
    "if __name__ == \"__main__\":\n",
    "    main()"
   ]
  },
  {
   "cell_type": "markdown",
   "id": "e0e3f8e1",
   "metadata": {},
   "source": []
  }
 ],
 "metadata": {
  "language_info": {
   "name": "python"
  }
 },
 "nbformat": 4,
 "nbformat_minor": 5
}
