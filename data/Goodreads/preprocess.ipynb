{
 "cells": [
  {
   "cell_type": "markdown",
   "id": "249179b0",
   "metadata": {},
   "source": [
    "# normalize part"
   ]
  },
  {
   "cell_type": "code",
   "execution_count": 6,
   "id": "32575c50",
   "metadata": {},
   "outputs": [
    {
     "name": "stdout",
     "output_type": "stream",
     "text": [
      "File  not found.\n"
     ]
    }
   ],
   "source": [
    "import json\n",
    "import os\n",
    "\n",
    "# Normalize the entire .json file and save it to a new file\n",
    "def normalize_json_file(file_path):\n",
    "    try:\n",
    "        # Get the new file name\n",
    "        base_name = os.path.basename(file_path)\n",
    "        new_file_name = f\"normalized_{base_name}\"\n",
    "        new_file_path = os.path.join(os.path.dirname(file_path), new_file_name)\n",
    "\n",
    "        with open(file_path, 'r', encoding='utf-8') as file, open(new_file_path, 'w', encoding='utf-8') as new_file:\n",
    "            items = []\n",
    "            for line in file:\n",
    "                try:\n",
    "                    # Attempt to parse each line as a JSON object\n",
    "                    item = json.loads(line.strip())\n",
    "                    items.append(item)\n",
    "                except json.JSONDecodeError as e:\n",
    "                    print(f\"Error parsing line: {e}\")\n",
    "                    continue\n",
    "\n",
    "            # Write the parsed content to the new file\n",
    "            json.dump(items, new_file, indent=4, ensure_ascii=False)\n",
    "        print(f\"Successfully normalized the entire file and saved to {new_file_path}\")\n",
    "    except FileNotFoundError:\n",
    "        print(f\"File {file_path} not found.\")\n",
    "    except Exception as e:\n",
    "        print(f\"Error reading the file: {e}\")\n",
    "\n",
    "# Main function\n",
    "def main():\n",
    "    file_path = input(\"Enter the path of the .json file to normalize: \")\n",
    "    normalize_json_file(file_path)\n",
    "\n",
    "if __name__ == \"__main__\":\n",
    "    main()"
   ]
  },
  {
   "cell_type": "markdown",
   "id": "03479c2f",
   "metadata": {},
   "source": [
    "# preprocess part"
   ]
  },
  {
   "cell_type": "code",
   "execution_count": null,
   "id": "b37a085b",
   "metadata": {},
   "outputs": [
    {
     "name": "stdout",
     "output_type": "stream",
     "text": [
      "Using the following 20 arms (shelves): ['owned-books', 'fiction', 'currently-reading', 'owned', 'default', 'favorites', 'books-i-own', 'library', 'books', 'ebook', 'to-buy', 'wish-list', 'my-books', 'unfinished', 'adult', 'own-it', 'series', 'novels', 'literature', 'my-library']\n",
      "Arms and rewards saved to ../../save/\n"
     ]
    }
   ],
   "source": [
    "import pandas as pd\n",
    "import numpy as np\n",
    "import json\n",
    "import os\n",
    "from collections import defaultdict\n",
    "\n",
    "def preprocess_data(input_file, save_path):\n",
    "    # Load small_goodreads_books.json\n",
    "    with open(input_file, 'r') as file:\n",
    "        books_data = json.load(file)\n",
    "\n",
    "    # Extract relevant information\n",
    "    book_shelves = []\n",
    "    ratings = []\n",
    "\n",
    "    # List of tags to exclude\n",
    "    excluded_tags = ['to-read']\n",
    "\n",
    "    for book in books_data:\n",
    "        book_title = book.get('title', 'Unknown')\n",
    "        book_rating = round(float(book.get('average_rating', 0)), 3)  # Round rating to 3 decimal places\n",
    "        \n",
    "        # Extract popular shelves\n",
    "        shelves = [shelf['name'] for shelf in book.get('popular_shelves', [])]\n",
    "\n",
    "        for shelf in shelves:\n",
    "            if shelf not in excluded_tags:  # Exclude the tags in the excluded_tags list\n",
    "                book_shelves.append(shelf)\n",
    "                ratings.append(book_rating)\n",
    "\n",
    "    # Count occurrences of each shelf and filter to get the top 20 most popular shelves\n",
    "    shelf_counts = pd.Series(book_shelves).value_counts()\n",
    "\n",
    "    # Get the top 20 most frequent shelves (excluding the tags in excluded_tags)\n",
    "    top_shelves = [shelf for shelf in shelf_counts.index if shelf not in excluded_tags][:20]\n",
    "\n",
    "    # Print the top 20 arms (shelves)\n",
    "    print(f\"Using the following {len(top_shelves)} arms (shelves): {top_shelves}\")\n",
    "\n",
    "    # Create reward pools for each shelf\n",
    "    rewards_by_shelf = defaultdict(list)\n",
    "    for shelf, rating in zip(book_shelves, ratings):\n",
    "        if shelf in top_shelves:\n",
    "            rewards_by_shelf[shelf].append(rating)  # Store the rounded rating\n",
    "\n",
    "    # Convert reward lists to numpy arrays for fast access\n",
    "    sample_pool = {shelf: np.array(rewards_by_shelf[shelf]) for shelf in top_shelves}\n",
    "\n",
    "    # Ensure the save path exists\n",
    "    os.makedirs(save_path, exist_ok=True)\n",
    "\n",
    "    # Save arms and rewards to JSON files\n",
    "    with open(os.path.join(save_path, \"arms.json\"), \"w\") as f:\n",
    "        json.dump(top_shelves, f)\n",
    "\n",
    "    with open(os.path.join(save_path, \"rewards.json\"), \"w\") as f:\n",
    "        json.dump({shelf: sample_pool[shelf].tolist() for shelf in top_shelves}, f)\n",
    "\n",
    "    print(f\"Arms and rewards saved to {save_path}\")\n",
    "\n",
    "def main():\n",
    "    # Ask for input file path and save directory\n",
    "    input_file = input(\"Enter the path to the small_goodreads_books.json file: \")\n",
    "    save_path = input(\"Enter the directory to save the processed files (e.g., ../../save/): \")\n",
    "\n",
    "    preprocess_data(input_file, save_path)\n",
    "\n",
    "if __name__ == \"__main__\":\n",
    "    main()\n"
   ]
  }
 ],
 "metadata": {
  "kernelspec": {
   "display_name": "Python 3",
   "language": "python",
   "name": "python3"
  },
  "language_info": {
   "codemirror_mode": {
    "name": "ipython",
    "version": 3
   },
   "file_extension": ".py",
   "mimetype": "text/x-python",
   "name": "python",
   "nbconvert_exporter": "python",
   "pygments_lexer": "ipython3",
   "version": "3.12.3"
  }
 },
 "nbformat": 4,
 "nbformat_minor": 5
}
